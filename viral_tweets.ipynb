{
  "nbformat": 4,
  "nbformat_minor": 0,
  "metadata": {
    "colab": {
      "name": "bitgrit_rf.ipynb",
      "provenance": [],
      "collapsed_sections": [
        "SgU7qFx-R0fV",
        "4kqzc9RrVtRj",
        "rQF4uJyKSmh9"
      ]
    },
    "kernelspec": {
      "display_name": "Python 3",
      "language": "python",
      "name": "python3"
    },
    "language_info": {
      "codemirror_mode": {
        "name": "ipython",
        "version": 3
      },
      "file_extension": ".py",
      "mimetype": "text/x-python",
      "name": "python",
      "nbconvert_exporter": "python",
      "pygments_lexer": "ipython3",
      "version": "3.8.5"
    }
  },
  "cells": [
    {
      "cell_type": "code",
      "metadata": {
        "colab": {
          "base_uri": "https://localhost:8080/"
        },
        "id": "evuoH6dPXPbe",
        "outputId": "38d82414-4356-4de1-f160-bee2699a930c"
      },
      "source": [
        "from google.colab import drive\n",
        "drive.mount(\"/content/drive\")"
      ],
      "execution_count": null,
      "outputs": [
        {
          "output_type": "stream",
          "text": [
            "Mounted at /content/drive\n"
          ],
          "name": "stdout"
        }
      ]
    },
    {
      "cell_type": "code",
      "metadata": {
        "id": "CVKZAXNaSmh0"
      },
      "source": [
        "import pandas as pd\n",
        "import numpy as np\n",
        "from sklearn.model_selection import train_test_split\n",
        "from sklearn.preprocessing import LabelEncoder\n",
        "from sklearn import preprocessing\n",
        "from sklearn.preprocessing import StandardScaler\n",
        "from sklearn.decomposition import PCA\n",
        "from sklearn.metrics import classification_report\n",
        "from sklearn.metrics import confusion_matrix\n",
        "from sklearn.metrics import accuracy_score\n",
        "import matplotlib.pyplot as plt"
      ],
      "execution_count": null,
      "outputs": []
    },
    {
      "cell_type": "code",
      "metadata": {
        "id": "Ahg-0VUxSmh4"
      },
      "source": [
        "def  mergedfs(df_users, df_pic,df_desc, df_tweets, df_media, df_text):\n",
        "    df_user = df_users.merge(df_pic, on = \"user_id\",how = \"left\")\n",
        "    df_user = df_user.merge(df_desc, on = \"user_id\",how = \"left\")\n",
        "    df_all = df_tweets.merge(df_media, on = \"tweet_id\",how = \"left\")\n",
        "    df_all = df_all.drop_duplicates(subset = [\"tweet_id\"])\n",
        "    df_user = df_user.rename(columns={\"user_id\":\"tweet_user_id\"})\n",
        "    df_all = df_all.merge(df_text, on = \"tweet_id\")\n",
        "    df_all = df_all.merge(df_user, on = \"tweet_user_id\",how = \"left\")\n",
        "    df = df_all.drop(['tweet_id','tweet_topic_ids','media_id'], axis = 1)\n",
        "    df = df.fillna(0)\n",
        "    le = LabelEncoder()\n",
        "    df[\"tweet_attachment_class\"]= le.fit_transform(df.tweet_attachment_class.values)\n",
        "    return df"
      ],
      "execution_count": null,
      "outputs": []
    },
    {
      "cell_type": "code",
      "metadata": {
        "id": "3UmXRRnVSmh4"
      },
      "source": [
        "def retrievelabels(df_all):\n",
        "    df_all[\"virality\"] = df_all[\"virality\"] - 1\n",
        "    labels = df_all.pop(\"virality\").to_numpy(dtype = \"int32\")\n",
        "    return labels, df_all"
      ],
      "execution_count": null,
      "outputs": []
    },
    {
      "cell_type": "code",
      "metadata": {
        "id": "V7yLZz7eSmh5"
      },
      "source": [
        "from sklearn.decomposition import TruncatedSVD\n",
        "def preprocess(df_train):#, df_test):\n",
        "    #df = pd.concat([df_train, df_test])\n",
        "    data = df_train.to_numpy(dtype = \"float32\")    \n",
        "    #scaler = preprocessing.MinMaxScaler()\n",
        "    #data = scaler.fit_transform(data)\n",
        "    svd = TruncatedSVD(n_components=241, n_iter=10, random_state=42)\n",
        "    data = svd.fit_transform(data)\n",
        "    #for i in range (data.shape[1]):\n",
        "        #if min(data[:,i]) < 0:\n",
        "            #data[:,i] = data[:,i] + abs(min(data[:,i]))\n",
        "    #scaler = preprocessing.MinMaxScaler()\n",
        "    #data = scaler.fit_transform(data)\n",
        "    #X_s = StandardScaler().fit_transform(data)\n",
        "    #pca = PCA(n_components=200)\n",
        "    #data = pca.fit_transform(X_s)\n",
        "    return data"
      ],
      "execution_count": null,
      "outputs": []
    },
    {
      "cell_type": "code",
      "metadata": {
        "id": "1YKoM7QYSmh5"
      },
      "source": [
        "def csvsave(file,y_pred,df_tweets1):\n",
        "    y_pred = y_pred+1\n",
        "    df_final = df_tweets1[\"tweet_id\"].to_frame()\n",
        "    df_final.insert(1, \"virality\", y_pred)\n",
        "    df_final.to_csv(file, index = False)"
      ],
      "execution_count": null,
      "outputs": []
    },
    {
      "cell_type": "code",
      "metadata": {
        "id": "JoQdNiJjSmh5"
      },
      "source": [
        "import math\n",
        "def ClassWeights(my_list):\n",
        "     \n",
        "   # Creating an empty dictionary\n",
        "    count = {}\n",
        "    for i in my_list:\n",
        "        count[i] = count.get(i, 0) + 1\n",
        "    total = sum(count.values())\n",
        "    for i in range(len(count.values())):\n",
        "        count[i] = (total)/(3*count[i])\n",
        "    return count"
      ],
      "execution_count": null,
      "outputs": []
    },
    {
      "cell_type": "code",
      "metadata": {
        "id": "ZPEVCeiBSmh6"
      },
      "source": [
        "df_media = pd.read_csv(\"drive/MyDrive/Dataset/Tweets/train_tweets_vectorized_media.csv\")\n",
        "df_tweets = pd.read_csv(\"drive/MyDrive/Dataset/Tweets/train_tweets.csv\")\n",
        "#df_tweets = df_tweets.sort_values(by='tweet_id')\n",
        "df_text = pd.read_csv(\"drive/MyDrive/Dataset/Tweets/train_tweets_vectorized_text.csv\")\n",
        "df_media1 = pd.read_csv(\"drive/MyDrive/Dataset/Tweets/test_tweets_vectorized_media.csv\")\n",
        "df_tweets1 = pd.read_csv(\"drive/MyDrive/Dataset/Tweets/test_tweets.csv\")\n",
        "#df_tweets1 = df_tweets1.sort_values(by='tweet_id')\n",
        "df_text1 = pd.read_csv(\"drive/MyDrive/Dataset/Tweets/test_tweets_vectorized_text.csv\")"
      ],
      "execution_count": null,
      "outputs": []
    },
    {
      "cell_type": "code",
      "metadata": {
        "colab": {
          "base_uri": "https://localhost:8080/"
        },
        "id": "eoqKreuoSmh6",
        "outputId": "dafdd819-b0b0-4c99-a538-a16e5111e721"
      },
      "source": [
        "df_tweets1.shape[0] + df_tweets.shape[0]"
      ],
      "execution_count": null,
      "outputs": [
        {
          "output_type": "execute_result",
          "data": {
            "text/plain": [
              "42322"
            ]
          },
          "metadata": {
            "tags": []
          },
          "execution_count": 9
        }
      ]
    },
    {
      "cell_type": "code",
      "metadata": {
        "id": "ALoNWnA1Smh7"
      },
      "source": [
        "df_users = pd.read_csv(\"drive/MyDrive/Dataset/Users/users.csv\")\n",
        "df_pic = pd.read_csv(\"drive/MyDrive/Dataset/Users/user_vectorized_profile_images.csv\")\n",
        "df_desc = pd.read_csv(\"drive/MyDrive/Dataset/Users/user_vectorized_descriptions.csv\")"
      ],
      "execution_count": null,
      "outputs": []
    },
    {
      "cell_type": "code",
      "metadata": {
        "colab": {
          "base_uri": "https://localhost:8080/"
        },
        "id": "oC1LAQCbL9hs",
        "outputId": "626e5a84-8da4-479c-e882-6762e4ff3119"
      },
      "source": [
        "df_tweets.tweet_created_at_year.unique()"
      ],
      "execution_count": null,
      "outputs": [
        {
          "output_type": "execute_result",
          "data": {
            "text/plain": [
              "array([2015, 2020, 2019, 2016, 2021, 2018, 2017, 2013, 2014])"
            ]
          },
          "metadata": {
            "tags": []
          },
          "execution_count": 14
        }
      ]
    },
    {
      "cell_type": "code",
      "metadata": {
        "id": "kFJUfYmDNWMW"
      },
      "source": [
        "oh = pd.get_dummies(df_tweets['tweet_created_at_year'], prefix='year')\n",
        "df_tweets = pd.concat([df_tweets, oh])"
      ],
      "execution_count": null,
      "outputs": []
    },
    {
      "cell_type": "code",
      "metadata": {
        "colab": {
          "base_uri": "https://localhost:8080/"
        },
        "id": "CQScOQv1Smh7",
        "outputId": "cc5f9429-a1a8-408e-ff6e-90b6325a3c57"
      },
      "source": [
        "df_train = mergedfs(df_users, df_pic,df_desc, df_tweets, df_media, df_text)\n",
        "labels,df_train = retrievelabels(df_train)\n",
        "df_test = mergedfs(df_users, df_pic,df_desc, df_tweets1, df_media1, df_text1)\n",
        "print(df_test.shape)\n",
        "print(df_train.shape)"
      ],
      "execution_count": null,
      "outputs": [
        {
          "output_type": "stream",
          "text": [
            "(12697, 5653)\n",
            "(29625, 5662)\n"
          ],
          "name": "stdout"
        }
      ]
    },
    {
      "cell_type": "code",
      "metadata": {
        "colab": {
          "base_uri": "https://localhost:8080/",
          "height": 288
        },
        "id": "trngCiprPARn",
        "outputId": "a89decfc-dc48-4110-8964-9c65b45dff4b"
      },
      "source": [
        "df_tweets['virality'].value_counts().sort_index().plot.bar(x='Classes', y='Number of Samples')"
      ],
      "execution_count": null,
      "outputs": [
        {
          "output_type": "execute_result",
          "data": {
            "text/plain": [
              "<matplotlib.axes._subplots.AxesSubplot at 0x7fb5f55b6c10>"
            ]
          },
          "metadata": {
            "tags": []
          },
          "execution_count": 20
        },
        {
          "output_type": "display_data",
          "data": {
            "image/png": "[encoded data removed]",
            "text/plain": [
              "<Figure size 432x288 with 1 Axes>"
            ]
          },
          "metadata": {
            "tags": [],
            "needs_background": "light"
          }
        }
      ]
    },
    {
      "cell_type": "code",
      "metadata": {
        "colab": {
          "base_uri": "https://localhost:8080/"
        },
        "id": "u-sWk8GaOYtw",
        "outputId": "c75c21f0-ba6d-4f17-fe12-e7f584f44cba"
      },
      "source": [
        "df_train.isnull().values.any()"
      ],
      "execution_count": null,
      "outputs": [
        {
          "output_type": "execute_result",
          "data": {
            "text/plain": [
              "False"
            ]
          },
          "metadata": {
            "tags": []
          },
          "execution_count": 23
        }
      ]
    },
    {
      "cell_type": "code",
      "metadata": {
        "colab": {
          "base_uri": "https://localhost:8080/"
        },
        "id": "KymA55p6OlzE",
        "outputId": "71d7237f-06f2-4dd6-8acf-c182341227b4"
      },
      "source": [
        "df_test.isnull().values.any()"
      ],
      "execution_count": null,
      "outputs": [
        {
          "output_type": "execute_result",
          "data": {
            "text/plain": [
              "False"
            ]
          },
          "metadata": {
            "tags": []
          },
          "execution_count": 24
        }
      ]
    },
    {
      "cell_type": "code",
      "metadata": {
        "colab": {
          "base_uri": "https://localhost:8080/"
        },
        "id": "U9QDt3e7Smh8",
        "outputId": "395a46c6-dc45-49af-eac5-3657c47ec952"
      },
      "source": [
        "data = preprocess(df_train)#, df_test)\n",
        "np.shape(data)"
      ],
      "execution_count": null,
      "outputs": [
        {
          "output_type": "execute_result",
          "data": {
            "text/plain": [
              "(29625, 241)"
            ]
          },
          "metadata": {
            "tags": []
          },
          "execution_count": 30
        }
      ]
    },
    {
      "cell_type": "code",
      "metadata": {
        "id": "ucOqOSf5PJ4a"
      },
      "source": [
        "X_train = data"
      ],
      "execution_count": null,
      "outputs": []
    },
    {
      "cell_type": "code",
      "metadata": {
        "colab": {
          "base_uri": "https://localhost:8080/"
        },
        "id": "XHr65qUSSmh8",
        "outputId": "f5fbfb5f-298d-4d9c-ca9a-0688affd9c5a"
      },
      "source": [
        "X_train = data[0:df_train.shape[0],:]\n",
        "print(X_train.shape)\n",
        "X_test = data[df_train.shape[0]:df_train.shape[0]+df_test.shape[0],:]\n",
        "print(X_test.shape)"
      ],
      "execution_count": null,
      "outputs": [
        {
          "output_type": "stream",
          "text": [
            "(29625, 241)\n",
            "(12697, 241)\n"
          ],
          "name": "stdout"
        }
      ]
    },
    {
      "cell_type": "code",
      "metadata": {
        "id": "bvmD7hsKSmh8"
      },
      "source": [
        "X_train1,X_test1,y_train1,y_test1 = train_test_split(X_train, labels, test_size = 0.1)"
      ],
      "execution_count": null,
      "outputs": []
    },
    {
      "cell_type": "code",
      "metadata": {
        "colab": {
          "base_uri": "https://localhost:8080/"
        },
        "id": "WdM8DaMBwB23",
        "outputId": "5927235b-d9b7-4c53-92c2-b789c01c71a6"
      },
      "source": [
        "from sklearn.neighbors import KNeighborsClassifier\n",
        "neigh = KNeighborsClassifier(n_neighbors=26)\n",
        "neigh.fit(X_train1, y_train1)\n",
        "y2 = (neigh.predict(X_test1))\n",
        "accuracy_score(y2,y_test1)"
      ],
      "execution_count": null,
      "outputs": [
        {
          "output_type": "execute_result",
          "data": {
            "text/plain": [
              "0.6415794802564968"
            ]
          },
          "metadata": {
            "tags": []
          },
          "execution_count": 33
        }
      ]
    },
    {
      "cell_type": "code",
      "metadata": {
        "colab": {
          "base_uri": "https://localhost:8080/"
        },
        "id": "ypIsW2ULSmh9",
        "outputId": "3bcc9c9a-4900-40f8-fadd-1fb009eb32b8"
      },
      "source": [
        "classweights = ClassWeights(labels)\n",
        "classweights_i = classweights.items()\n",
        "classweights = dict(sorted(classweights_i))\n",
        "dict(classweights)"
      ],
      "execution_count": null,
      "outputs": [
        {
          "output_type": "execute_result",
          "data": {
            "text/plain": [
              "{0: 0.7243984741784038,\n",
              " 1: 1.1109236134548317,\n",
              " 2: 2.125484287559191,\n",
              " 3: 8.700440528634362,\n",
              " 4: 7.464096749811035}"
            ]
          },
          "metadata": {
            "tags": []
          },
          "execution_count": 34
        }
      ]
    },
    {
      "cell_type": "markdown",
      "metadata": {
        "id": "SgU7qFx-R0fV"
      },
      "source": [
        "## Extra Trees"
      ]
    },
    {
      "cell_type": "code",
      "metadata": {
        "id": "nQOTnFrtR2vv"
      },
      "source": [
        "from sklearn.ensemble import ExtraTreesClassifier"
      ],
      "execution_count": null,
      "outputs": []
    },
    {
      "cell_type": "code",
      "metadata": {
        "colab": {
          "base_uri": "https://localhost:8080/"
        },
        "id": "5ui2LKSuR2uK",
        "outputId": "dd53c6e7-9863-4fa5-e394-d47752919704"
      },
      "source": [
        "# Building the model\n",
        "extra_tree_forest = ExtraTreesClassifier(bootstrap=False, ccp_alpha=0.0, class_weight=\"balanced\",\n",
        "                                         criterion='gini', max_depth=70, max_features='sqrt',\n",
        "                                         max_leaf_nodes=None, max_samples=None,\n",
        "                                         min_impurity_decrease=0.0, min_impurity_split=None,min_samples_leaf=1, min_samples_split=5,\n",
        "                                         min_weight_fraction_leaf=0.0, n_estimators=1600, \n",
        "                                         n_jobs=None, oob_score=False, random_state=None, verbose=0,warm_start=False)\n",
        "  \n",
        "# Training the model\n",
        "extra_tree_forest.fit(X_train1, y_train1)"
      ],
      "execution_count": null,
      "outputs": [
        {
          "output_type": "execute_result",
          "data": {
            "text/plain": [
              "ExtraTreesClassifier(bootstrap=False, ccp_alpha=0.0, class_weight='balanced',\n",
              "                     criterion='gini', max_depth=70, max_features='sqrt',\n",
              "                     max_leaf_nodes=None, max_samples=None,\n",
              "                     min_impurity_decrease=0.0, min_impurity_split=None,\n",
              "                     min_samples_leaf=1, min_samples_split=5,\n",
              "                     min_weight_fraction_leaf=0.0, n_estimators=1600,\n",
              "                     n_jobs=None, oob_score=False, random_state=None, verbose=0,\n",
              "                     warm_start=False)"
            ]
          },
          "metadata": {
            "tags": []
          },
          "execution_count": 19
        }
      ]
    },
    {
      "cell_type": "code",
      "metadata": {
        "colab": {
          "base_uri": "https://localhost:8080/"
        },
        "id": "OJM16n9_R20n",
        "outputId": "3fa08a81-d079-4d5e-9bfe-eb24a1a13271"
      },
      "source": [
        "y2 = extra_tree_forest.predict(X_test1)\n",
        "print(accuracy_score(y2,y_test1))"
      ],
      "execution_count": null,
      "outputs": [
        {
          "output_type": "stream",
          "text": [
            "0.6780290246371921\n"
          ],
          "name": "stdout"
        }
      ]
    },
    {
      "cell_type": "markdown",
      "metadata": {
        "id": "4kqzc9RrVtRj"
      },
      "source": [
        "## Feature importances\n",
        "To check the number of features approximately needed for good predictions"
      ]
    },
    {
      "cell_type": "code",
      "metadata": {
        "id": "LmKOtn038tty"
      },
      "source": [
        "rf.feature_importances_\n",
        "# Get numerical feature importances\n",
        "importances = list(rf.feature_importances_)\n",
        "feature_list = list(df_train.columns)\n",
        "# List of tuples with variable and importance\n",
        "feature_importances = [(feature, round(importance, 4)) for feature, importance in zip(feature_list, importances)]\n",
        "feature_importances = sorted(feature_importances, key = lambda x: x[1], reverse = True)"
      ],
      "execution_count": null,
      "outputs": []
    },
    {
      "cell_type": "code",
      "metadata": {
        "colab": {
          "base_uri": "https://localhost:8080/",
          "height": 409
        },
        "id": "qJbVsTq398is",
        "outputId": "36930f41-0067-4616-bc6f-fefd1e7d3f6d"
      },
      "source": [
        "# List of features sorted from most to least important\n",
        "sorted_importances = [importance[1] for importance in feature_importances]\n",
        "sorted_features = [importance[0] for importance in feature_importances]\n",
        "# Cumulative importances\n",
        "cumulative_importances = np.cumsum(sorted_importances)\n",
        "x_values = list(range(len(importances)))\n",
        "# Make a line graph\n",
        "plt.plot(x_values, cumulative_importances, 'g-')\n",
        "# Draw line at 95% of importance retained\n",
        "plt.hlines(y = 0.95, xmin=0, xmax=len(sorted_importances), color = 'r', linestyles = 'dashed')\n",
        "# Format x ticks and labels\n",
        "plt.xticks(x_values, sorted_features, rotation = 'vertical')\n",
        "# Axis labels and title\n",
        "plt.xlabel('Variable'); plt.ylabel('Cumulative Importance'); plt.title('Cumulative Importances');\n"
      ],
      "execution_count": null,
      "outputs": [
        {
          "output_type": "display_data",
          "data": {
            "image/png": "[encoded data removed]",
            "text/plain": [
              "<Figure size 432x288 with 1 Axes>"
            ]
          },
          "metadata": {
            "tags": []
          }
        }
      ]
    },
    {
      "cell_type": "code",
      "metadata": {
        "colab": {
          "base_uri": "https://localhost:8080/"
        },
        "id": "qnqAvGFDUCuQ",
        "outputId": "7fd50620-59ab-44a3-8e6c-4d63ed053f06"
      },
      "source": [
        "sorted_importances[20]"
      ],
      "execution_count": null,
      "outputs": [
        {
          "output_type": "execute_result",
          "data": {
            "text/plain": [
              "0.0026"
            ]
          },
          "metadata": {
            "tags": []
          },
          "execution_count": 71
        }
      ]
    },
    {
      "cell_type": "code",
      "metadata": {
        "colab": {
          "base_uri": "https://localhost:8080/"
        },
        "id": "sM2mRhTn-kVL",
        "outputId": "1b689c99-659a-4464-eff6-228a4d33d136"
      },
      "source": [
        "# Find number of features for cumulative importance of 95%\n",
        "# Add 1 because Python is zero-indexed\n",
        "print('Number of features for 95% importance:', np.where(cumulative_importances > 0.95)[0][0] + 1)"
      ],
      "execution_count": null,
      "outputs": [
        {
          "output_type": "stream",
          "text": [
            "Number of features for 95% importance: 243\n"
          ],
          "name": "stdout"
        }
      ]
    },
    {
      "cell_type": "code",
      "metadata": {
        "colab": {
          "base_uri": "https://localhost:8080/"
        },
        "id": "nL73GIu2adPZ",
        "outputId": "a9a8d26b-9282-4112-d225-a3f91f69d3b7"
      },
      "source": [
        "len(feature_list)"
      ],
      "execution_count": null,
      "outputs": [
        {
          "output_type": "execute_result",
          "data": {
            "text/plain": [
              "5653"
            ]
          },
          "metadata": {
            "tags": []
          },
          "execution_count": 73
        }
      ]
    },
    {
      "cell_type": "markdown",
      "metadata": {
        "id": "rQF4uJyKSmh9"
      },
      "source": [
        "## only training data"
      ]
    },
    {
      "cell_type": "code",
      "metadata": {
        "id": "NY-4Mof-LcC1",
        "outputId": "3ade92bd-5f2d-4568-d7c3-4572279ae9e7"
      },
      "source": [
        "from sklearn.ensemble import RandomForestClassifier\n",
        "rf = RandomForestClassifier(class_weight=classweights,n_estimators= 1600,min_samples_split= 5,min_samples_leaf= 1,max_features= 'sqrt',max_depth= 70, bootstrap = False)\n",
        "rf.fit(X_train1,y_train1)\n",
        "y2=rf.predict(X_test1)\n",
        "print(classification_report(y_test1, y2))\n",
        "confusion_matrix(y_test1, y2)"
      ],
      "execution_count": null,
      "outputs": [
        {
          "output_type": "stream",
          "text": [
            "              precision    recall  f1-score   support\n",
            "\n",
            "           0       0.78      0.88      0.83      1354\n",
            "           1       0.59      0.53      0.56       868\n",
            "           2       0.56      0.63      0.59       481\n",
            "           3       0.30      0.03      0.05       115\n",
            "           4       0.68      0.43      0.53       145\n",
            "\n",
            "    accuracy                           0.68      2963\n",
            "   macro avg       0.58      0.50      0.51      2963\n",
            "weighted avg       0.66      0.68      0.67      2963\n",
            "\n"
          ],
          "name": "stdout"
        },
        {
          "output_type": "execute_result",
          "data": {
            "text/plain": [
              "array([[1190,  152,   11,    0,    1],\n",
              "       [ 279,  464,  124,    0,    1],\n",
              "       [  39,  123,  305,    4,   10],\n",
              "       [  13,   28,   54,    3,   17],\n",
              "       [   7,   19,   54,    3,   62]], dtype=int64)"
            ]
          },
          "metadata": {
            "tags": []
          },
          "execution_count": 70
        }
      ]
    },
    {
      "cell_type": "markdown",
      "metadata": {
        "id": "vMqRzjo4Smh9"
      },
      "source": [
        "## Training and test data - Final Model"
      ]
    },
    {
      "cell_type": "code",
      "metadata": {
        "id": "V5X7HibnSmh-"
      },
      "source": [
        "from sklearn.ensemble import RandomForestClassifier\n",
        "#rf = RandomForestClassifier(class_weight=classweights)\n",
        "rf = RandomForestClassifier(class_weight=classweights,n_estimators= 1600,min_samples_split= 5,min_samples_leaf= 1,max_features= 'sqrt',max_depth= 70, bootstrap = False)\n",
        "\n",
        "rf.fit(X_train,labels)\n",
        "y2=rf.predict(X_test)\n",
        "csvsave(\"RandomForest_51.csv\",y2,df_tweets1)"
      ],
      "execution_count": null,
      "outputs": []
    },
    {
      "cell_type": "code",
      "metadata": {
        "id": "eueo8npgSmh-",
        "outputId": "d52b84d7-0faa-42f7-a5b1-036b2999e42c"
      },
      "source": [
        "rf.get_params()"
      ],
      "execution_count": null,
      "outputs": [
        {
          "output_type": "execute_result",
          "data": {
            "text/plain": [
              "{'bootstrap': True,\n",
              " 'ccp_alpha': 0.0,\n",
              " 'class_weight': {0: 0.43463908450704225,\n",
              "  1: 0.6665541680728991,\n",
              "  2: 1.2752905725355144,\n",
              "  3: 5.220264317180617,\n",
              "  4: 4.478458049886621},\n",
              " 'criterion': 'gini',\n",
              " 'max_depth': None,\n",
              " 'max_features': 'auto',\n",
              " 'max_leaf_nodes': None,\n",
              " 'max_samples': None,\n",
              " 'min_impurity_decrease': 0.0,\n",
              " 'min_impurity_split': None,\n",
              " 'min_samples_leaf': 1,\n",
              " 'min_samples_split': 2,\n",
              " 'min_weight_fraction_leaf': 0.0,\n",
              " 'n_estimators': 100,\n",
              " 'n_jobs': None,\n",
              " 'oob_score': False,\n",
              " 'random_state': None,\n",
              " 'verbose': 0,\n",
              " 'warm_start': False}"
            ]
          },
          "metadata": {
            "tags": []
          },
          "execution_count": 28
        }
      ]
    },
    {
      "cell_type": "markdown",
      "metadata": {
        "id": "gTOTlYG3Smh-"
      },
      "source": [
        "# Randomised search"
      ]
    },
    {
      "cell_type": "code",
      "metadata": {
        "colab": {
          "base_uri": "https://localhost:8080/"
        },
        "id": "K_mBkGQnSmh-",
        "outputId": "7c991554-7770-4989-ecb6-b234e0495394"
      },
      "source": [
        "from sklearn.model_selection import RandomizedSearchCV\n",
        "# Number of trees in random forest\n",
        "n_estimators = [int(x) for x in np.linspace(start = 200, stop = 2000, num = 10)]\n",
        "# Number of features to consider at every split\n",
        "max_features = ['auto', 'sqrt']\n",
        "# Maximum number of levels in tree\n",
        "max_depth = [int(x) for x in np.linspace(10, 110, num = 11)]\n",
        "max_depth.append(None)\n",
        "# Minimum number of samples required to split a node\n",
        "min_samples_split = [2, 5, 10]\n",
        "# Minimum number of samples required at each leaf node\n",
        "min_samples_leaf = [1, 2, 4]\n",
        "# Method of selecting samples for training each tree\n",
        "bootstrap = [True, False]\n",
        "# Create the random grid\n",
        "random_grid = {'n_estimators': n_estimators,\n",
        "               'max_features': max_features,\n",
        "               'max_depth': max_depth,\n",
        "               'min_samples_split': min_samples_split,\n",
        "               'min_samples_leaf': min_samples_leaf,\n",
        "               'bootstrap': bootstrap}\n",
        "print(random_grid)"
      ],
      "execution_count": null,
      "outputs": [
        {
          "output_type": "stream",
          "text": [
            "{'n_estimators': [200, 400, 600, 800, 1000, 1200, 1400, 1600, 1800, 2000], 'max_features': ['auto', 'sqrt'], 'max_depth': [10, 20, 30, 40, 50, 60, 70, 80, 90, 100, 110, None], 'min_samples_split': [2, 5, 10], 'min_samples_leaf': [1, 2, 4], 'bootstrap': [True, False]}\n"
          ],
          "name": "stdout"
        }
      ]
    },
    {
      "cell_type": "code",
      "metadata": {
        "id": "Ek_QU8_RLcC5",
        "colab": {
          "base_uri": "https://localhost:8080/"
        },
        "outputId": "ee572ec4-6c9b-42c2-ffdd-51f1668cce05"
      },
      "source": [
        "# Use the random grid to search for best hyperparameters\n",
        "# First create the base model to tune\n",
        "rf = RandomForestClassifier(class_weight=classweights)\n",
        "# Random search of parameters, using 3 fold cross validation, \n",
        "# search across 100 different combinations, and use all available cores\n",
        "rf_random = RandomizedSearchCV(estimator = rf, param_distributions = random_grid, n_iter = 100, cv = 3, verbose=2, random_state=42, n_jobs = -1)\n",
        "# Fit the random search model\n",
        "rf_random.fit(X_train, y_train)"
      ],
      "execution_count": null,
      "outputs": [
        {
          "output_type": "execute_result",
          "data": {
            "text/plain": [
              "0.6415794802564968"
            ]
          },
          "metadata": {
            "tags": []
          },
          "execution_count": 37
        }
      ]
    },
    {
      "cell_type": "code",
      "metadata": {
        "id": "XTewvtxWLcC6",
        "outputId": "ab75080a-a6e8-42c9-8eb4-f1a4b2a5bfba"
      },
      "source": [
        "rf_random.best_params_"
      ],
      "execution_count": null,
      "outputs": [
        {
          "output_type": "execute_result",
          "data": {
            "text/plain": [
              "{'n_estimators': 1600,\n",
              " 'min_samples_split': 5,\n",
              " 'min_samples_leaf': 1,\n",
              " 'max_features': 'sqrt',\n",
              " 'max_depth': 70,\n",
              " 'bootstrap': False}"
            ]
          },
          "metadata": {
            "tags": []
          },
          "execution_count": 33
        }
      ]
    },
    {
      "cell_type": "markdown",
      "metadata": {
        "id": "w_Ny7P_sMDA4"
      },
      "source": [
        "## Stacked Classifier"
      ]
    },
    {
      "cell_type": "code",
      "metadata": {
        "id": "-_vAjbxJSmh_"
      },
      "source": [
        "from sklearn.ensemble import StackingClassifier\n",
        "from sklearn.ensemble import RandomForestClassifier\n",
        "from sklearn.neighbors import KNeighborsClassifier\n",
        "from sklearn.linear_model import LogisticRegression\n",
        "from sklearn.tree import DecisionTreeClassifier"
      ],
      "execution_count": null,
      "outputs": []
    },
    {
      "cell_type": "code",
      "metadata": {
        "id": "fKUlg9uuyyAN"
      },
      "source": [
        "estimators = [\n",
        "... ('knn', KNeighborsClassifier(n_neighbors=5)),\n",
        "... ('lr', LogisticRegression(solver='lbfgs',max_iter=10000,class_weight=classweights))\n",
        "... ]\n",
        "clf = StackingClassifier(\n",
        "... estimators=estimators, final_estimator=RandomForestClassifier(class_weight = classweights)\n",
        "... )"
      ],
      "execution_count": null,
      "outputs": []
    },
    {
      "cell_type": "code",
      "metadata": {
        "colab": {
          "base_uri": "https://localhost:8080/"
        },
        "id": "x3oCGvqjxmbh",
        "outputId": "534b61e8-3f28-4fc7-e605-56bd04885599"
      },
      "source": [
        "clf.fit(X_train1, y_train1)"
      ],
      "execution_count": null,
      "outputs": [
        {
          "output_type": "execute_result",
          "data": {
            "text/plain": [
              "StackingClassifier(cv=None,\n",
              "                   estimators=[('knn',\n",
              "                                KNeighborsClassifier(algorithm='auto',\n",
              "                                                     leaf_size=30,\n",
              "                                                     metric='minkowski',\n",
              "                                                     metric_params=None,\n",
              "                                                     n_jobs=None, n_neighbors=5,\n",
              "                                                     p=2, weights='uniform')),\n",
              "                               ('lr',\n",
              "                                LogisticRegression(C=1.0,\n",
              "                                                   class_weight={0: 0.7243984741784038,\n",
              "                                                                 1: 1.1109236134548317,\n",
              "                                                                 2: 2.125484287559191,\n",
              "                                                                 3: 8.700440528634362,\n",
              "                                                                 4: 7.464096749811035},\n",
              "                                                   dual=False,\n",
              "                                                   fit_in...\n",
              "                                                          criterion='gini',\n",
              "                                                          max_depth=None,\n",
              "                                                          max_features='auto',\n",
              "                                                          max_leaf_nodes=None,\n",
              "                                                          max_samples=None,\n",
              "                                                          min_impurity_decrease=0.0,\n",
              "                                                          min_impurity_split=None,\n",
              "                                                          min_samples_leaf=1,\n",
              "                                                          min_samples_split=2,\n",
              "                                                          min_weight_fraction_leaf=0.0,\n",
              "                                                          n_estimators=100,\n",
              "                                                          n_jobs=None,\n",
              "                                                          oob_score=False,\n",
              "                                                          random_state=None,\n",
              "                                                          verbose=0,\n",
              "                                                          warm_start=False),\n",
              "                   n_jobs=None, passthrough=False, stack_method='auto',\n",
              "                   verbose=0)"
            ]
          },
          "metadata": {
            "tags": []
          },
          "execution_count": 22
        }
      ]
    },
    {
      "cell_type": "code",
      "metadata": {
        "id": "Mz7I7Vptx2C1",
        "colab": {
          "base_uri": "https://localhost:8080/"
        },
        "outputId": "f1bd0e19-0ff3-4efa-aded-0a11d1437d79"
      },
      "source": [
        "y_pred1 = clf.predict(X_test1)\n",
        "#csvsave(\"stacked.csv\",y_pred1,df_tweets1)\n",
        "print(classification_report(y_pred1, y_test1))\n",
        "confusion_matrix(y_pred1, y_test1)"
      ],
      "execution_count": null,
      "outputs": [
        {
          "output_type": "stream",
          "text": [
            "              precision    recall  f1-score   support\n",
            "\n",
            "           0       0.83      0.70      0.76      1529\n",
            "           1       0.48      0.52      0.50       852\n",
            "           2       0.48      0.51      0.50       443\n",
            "           3       0.03      0.14      0.05        29\n",
            "           4       0.35      0.50      0.41       110\n",
            "\n",
            "    accuracy                           0.61      2963\n",
            "   macro avg       0.43      0.47      0.44      2963\n",
            "weighted avg       0.65      0.61      0.63      2963\n",
            "\n"
          ],
          "name": "stdout"
        },
        {
          "output_type": "execute_result",
          "data": {
            "text/plain": [
              "array([[1070,  366,   53,   20,   20],\n",
              "       [ 198,  441,  161,   25,   27],\n",
              "       [  11,   98,  228,   56,   50],\n",
              "       [   0,    6,   14,    4,    5],\n",
              "       [   6,    6,   19,   24,   55]])"
            ]
          },
          "metadata": {
            "tags": []
          },
          "execution_count": 23
        }
      ]
    },
    {
      "cell_type": "markdown",
      "metadata": {
        "id": "Uv9HHiB3QMV7"
      },
      "source": [
        "## REFERENCES\n",
        "\n",
        "\n",
        "\n",
        "1.  https://towardsdatascience.com/improving-random-forest-in-python-part-1-893916666cd\n",
        "2.   https://towardsdatascience.com/hyperparameter-tuning-the-random-forest-in-python-using-scikit-learn-28d2aa77dd74\n",
        "\n",
        "\n",
        "\n"
      ]
    }
  ]
}